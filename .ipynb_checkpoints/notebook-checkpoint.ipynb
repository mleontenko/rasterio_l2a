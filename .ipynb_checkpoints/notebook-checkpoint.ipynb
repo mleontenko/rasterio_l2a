{
 "cells": [
  {
   "cell_type": "code",
   "execution_count": 1,
   "id": "4bb7b9f7",
   "metadata": {},
   "outputs": [],
   "source": [
    "#import required libraries\n",
    "import rasterio\n",
    "from rasterio import plot\n",
    "import matplotlib.pyplot as plt\n",
    "%matplotlib inline"
   ]
  },
  {
   "cell_type": "code",
   "execution_count": 2,
   "id": "52502203",
   "metadata": {},
   "outputs": [],
   "source": [
    "#import bands as separate 1 band raster\n",
    "imagePath = 'S2A_MSIL2A_20210603T094031_N0300_R036_T33TXH_20210603T121955.SAFE/GRANULE/L2A_T33TXH_A031064_20210603T094347/IMG_DATA/R10m/'\n",
    "band2 = rasterio.open(imagePath+'T33TXH_20210603T094031_B02_10m.jp2', driver='JP2OpenJPEG') #blue\n",
    "band3 = rasterio.open(imagePath+'T33TXH_20210603T094031_B03_10m.jp2', driver='JP2OpenJPEG') #green\n",
    "band4 = rasterio.open(imagePath+'T33TXH_20210603T094031_B04_10m.jp2', driver='JP2OpenJPEG') #red\n",
    "band8 = rasterio.open(imagePath+'T33TXH_20210603T094031_B08_10m.jp2', driver='JP2OpenJPEG') #nir"
   ]
  }
 ],
 "metadata": {
  "kernelspec": {
   "display_name": "Python 3",
   "language": "python",
   "name": "python3"
  },
  "language_info": {
   "codemirror_mode": {
    "name": "ipython",
    "version": 3
   },
   "file_extension": ".py",
   "mimetype": "text/x-python",
   "name": "python",
   "nbconvert_exporter": "python",
   "pygments_lexer": "ipython3",
   "version": "3.8.3"
  }
 },
 "nbformat": 4,
 "nbformat_minor": 5
}
